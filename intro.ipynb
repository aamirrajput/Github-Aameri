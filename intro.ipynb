{
  "nbformat": 4,
  "nbformat_minor": 0,
  "metadata": {
    "colab": {
      "name": "intro.ipynb",
      "provenance": [],
      "authorship_tag": "ABX9TyPdjbF+oRjWvILLmE6dNON4",
      "include_colab_link": true
    },
    "kernelspec": {
      "name": "python3",
      "display_name": "Python 3"
    }
  },
  "cells": [
    {
      "cell_type": "markdown",
      "metadata": {
        "id": "view-in-github",
        "colab_type": "text"
      },
      "source": [
        "<a href=\"https://colab.research.google.com/github/aamirrajput/Github-Aameri/blob/main/intro.ipynb\" target=\"_parent\"><img src=\"https://colab.research.google.com/assets/colab-badge.svg\" alt=\"Open In Colab\"/></a>"
      ]
    },
    {
      "cell_type": "code",
      "metadata": {
        "colab": {
          "base_uri": "https://localhost:8080/"
        },
        "id": "L6rbeG2nAwY5",
        "outputId": "f7c4d09d-c7b7-436c-a193-f09ef662f60c"
      },
      "source": [
        "a = [1, 2, 3, 4, 5]\r\n",
        "print(a)"
      ],
      "execution_count": null,
      "outputs": [
        {
          "output_type": "stream",
          "text": [
            "[1, 2, 3, 4, 5]\n"
          ],
          "name": "stdout"
        }
      ]
    },
    {
      "cell_type": "code",
      "metadata": {
        "colab": {
          "base_uri": "https://localhost:8080/"
        },
        "id": "NbzrBrd7Ovc5",
        "outputId": "0ff858d7-c390-4f1b-ace5-2450329a5d9f"
      },
      "source": [
        "print('hello aamir')"
      ],
      "execution_count": null,
      "outputs": [
        {
          "output_type": "stream",
          "text": [
            "hello aamir\n"
          ],
          "name": "stdout"
        }
      ]
    },
    {
      "cell_type": "code",
      "metadata": {
        "id": "UQMzAQrkdW2I"
      },
      "source": [
        "import numpy as np\r\n",
        "import matplotlib.pyplot as plt\r\n",
        "import pandas as pd\r\n",
        "import scipy"
      ],
      "execution_count": 1,
      "outputs": []
    },
    {
      "cell_type": "markdown",
      "metadata": {
        "id": "tyN55biPH5AB"
      },
      "source": [
        "handle arrays(1D, 2D, 3D)"
      ]
    },
    {
      "cell_type": "markdown",
      "metadata": {
        "id": "oNXhGvaYISn4"
      },
      "source": [
        "ID array"
      ]
    },
    {
      "cell_type": "markdown",
      "metadata": {
        "id": "FTRwlmdNIbCD"
      },
      "source": [
        "np.array: array consist of several numbers\r\n",
        "np.linspace: array of series from strat value to end value, with specific incerment\r\n",
        "np.arange: array of seires between two values with specfic \r\n"
      ]
    },
    {
      "cell_type": "code",
      "metadata": {
        "id": "qXUTVojcAtd2",
        "outputId": "017f57fe-c402-4e69-8c21-71cfe2ef811b",
        "colab": {
          "base_uri": "https://localhost:8080/"
        }
      },
      "source": [
        "np.array([10, 20, 30, 40, 50])"
      ],
      "execution_count": 2,
      "outputs": [
        {
          "output_type": "execute_result",
          "data": {
            "text/plain": [
              "array([10, 20, 30, 40, 50])"
            ]
          },
          "metadata": {
            "tags": []
          },
          "execution_count": 2
        }
      ]
    },
    {
      "cell_type": "code",
      "metadata": {
        "id": "33W06pI-Bfm1",
        "outputId": "656e105f-be3b-493a-85b7-0afdc453d65b",
        "colab": {
          "base_uri": "https://localhost:8080/"
        }
      },
      "source": [
        "np.arange(10, 100, 5)"
      ],
      "execution_count": 6,
      "outputs": [
        {
          "output_type": "execute_result",
          "data": {
            "text/plain": [
              "array([10, 15, 20, 25, 30, 35, 40, 45, 50, 55, 60, 65, 70, 75, 80, 85, 90,\n",
              "       95])"
            ]
          },
          "metadata": {
            "tags": []
          },
          "execution_count": 6
        }
      ]
    },
    {
      "cell_type": "code",
      "metadata": {
        "id": "rog4UkX0CjMf"
      },
      "source": [
        "new_array = np.arange(0, 25, 0.5)\r\n",
        "\r\n",
        "for i in range(len(new_array)):\r\n",
        "  print(new_array[i])\r\n"
      ],
      "execution_count": null,
      "outputs": []
    },
    {
      "cell_type": "code",
      "metadata": {
        "id": "kXmBjV17GyCS",
        "outputId": "74d93ee4-61da-489c-c4ee-30820be38211",
        "colab": {
          "base_uri": "https://localhost:8080/",
          "height": 131
        }
      },
      "source": [
        "print('sorted from smalllest to highest:', np.sort(array):"
      ],
      "execution_count": 17,
      "outputs": [
        {
          "output_type": "error",
          "ename": "SyntaxError",
          "evalue": "ignored",
          "traceback": [
            "\u001b[0;36m  File \u001b[0;32m\"<ipython-input-17-7161f2c14aae>\"\u001b[0;36m, line \u001b[0;32m1\u001b[0m\n\u001b[0;31m    print('sorted from smalllest to highest:', np.sort(array):\u001b[0m\n\u001b[0m                                                             ^\u001b[0m\n\u001b[0;31mSyntaxError\u001b[0m\u001b[0;31m:\u001b[0m invalid syntax\n"
          ]
        }
      ]
    }
  ]
}