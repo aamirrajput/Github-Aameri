{
  "nbformat": 4,
  "nbformat_minor": 0,
  "metadata": {
    "colab": {
      "name": "intro.ipynb",
      "provenance": [],
      "authorship_tag": "ABX9TyPzqrtuXUp+SrvGOm6lTRrK",
      "include_colab_link": true
    },
    "kernelspec": {
      "name": "python3",
      "display_name": "Python 3"
    }
  },
  "cells": [
    {
      "cell_type": "markdown",
      "metadata": {
        "id": "view-in-github",
        "colab_type": "text"
      },
      "source": [
        "<a href=\"https://colab.research.google.com/github/aamirrajput/Github-Aameri/blob/main/intro.ipynb\" target=\"_parent\"><img src=\"https://colab.research.google.com/assets/colab-badge.svg\" alt=\"Open In Colab\"/></a>"
      ]
    },
    {
      "cell_type": "code",
      "metadata": {
        "colab": {
          "base_uri": "https://localhost:8080/"
        },
        "id": "L6rbeG2nAwY5",
        "outputId": "f7c4d09d-c7b7-436c-a193-f09ef662f60c"
      },
      "source": [
        "a = [1, 2, 3, 4, 5]\r\n",
        "print(a)"
      ],
      "execution_count": null,
      "outputs": [
        {
          "output_type": "stream",
          "text": [
            "[1, 2, 3, 4, 5]\n"
          ],
          "name": "stdout"
        }
      ]
    },
    {
      "cell_type": "code",
      "metadata": {
        "colab": {
          "base_uri": "https://localhost:8080/"
        },
        "id": "NbzrBrd7Ovc5",
        "outputId": "0ff858d7-c390-4f1b-ace5-2450329a5d9f"
      },
      "source": [
        "print('hello aamir')"
      ],
      "execution_count": null,
      "outputs": [
        {
          "output_type": "stream",
          "text": [
            "hello aamir\n"
          ],
          "name": "stdout"
        }
      ]
    },
    {
      "cell_type": "code",
      "metadata": {
        "id": "UQMzAQrkdW2I"
      },
      "source": [
        "import numpy as np\r\n",
        "import matplotlib.pyplot as plt\r\n",
        "import pandas as pd\r\n",
        "import scipy"
      ],
      "execution_count": 1,
      "outputs": []
    },
    {
      "cell_type": "markdown",
      "metadata": {
        "id": "tyN55biPH5AB"
      },
      "source": [
        "handle arrays(1D, 2D, 3D)"
      ]
    },
    {
      "cell_type": "markdown",
      "metadata": {
        "id": "oNXhGvaYISn4"
      },
      "source": [
        "ID array"
      ]
    },
    {
      "cell_type": "markdown",
      "metadata": {
        "id": "FTRwlmdNIbCD"
      },
      "source": [
        "1. np.array: array consist of several numbers\r\n",
        "2. np.linspace: array of series from strat value to end value, with specific incerment.\r\n",
        "3. np.arange: array of seires between two values with specfic.\r\n"
      ]
    },
    {
      "cell_type": "code",
      "metadata": {
        "colab": {
          "base_uri": "https://localhost:8080/"
        },
        "id": "Oviz0sNsMMvT",
        "outputId": "09513c34-d108-4bfb-9686-0028712757ca"
      },
      "source": [
        "# Create array with specified values\r\n",
        "array1 = np.array([10, 11, 45, 75, 65, 78, 90, 85, 56, 77])\r\n",
        "print(array1)\r\n",
        "\r\n",
        "# create  an array, say from 1 to 50 with specified increment say 5\r\n",
        "array2 = np.arange(1, 50, 5)\r\n",
        "print(array2)\r\n",
        "\r\n",
        "# create a 1D numpy array consisting of numbers from 1 to 100, divided uniformly\r\n",
        "array3 = np.linspace(1, 100, 10)\r\n",
        "print(array3)"
      ],
      "execution_count": 22,
      "outputs": [
        {
          "output_type": "stream",
          "text": [
            "[10 11 45 75 65 78 90 85 56 77]\n",
            "[ 1  6 11 16 21 26 31 36 41 46]\n",
            "[  1.  12.  23.  34.  45.  56.  67.  78.  89. 100.]\n"
          ],
          "name": "stdout"
        }
      ]
    },
    {
      "cell_type": "markdown",
      "metadata": {
        "id": "bDEkp62WPT6o"
      },
      "source": [
        "print the length of each array"
      ]
    },
    {
      "cell_type": "code",
      "metadata": {
        "colab": {
          "base_uri": "https://localhost:8080/"
        },
        "id": "qXUTVojcAtd2",
        "outputId": "017f57fe-c402-4e69-8c21-71cfe2ef811b"
      },
      "source": [
        "np.array([10, 20, 30, 40, 50])"
      ],
      "execution_count": 2,
      "outputs": [
        {
          "output_type": "execute_result",
          "data": {
            "text/plain": [
              "array([10, 20, 30, 40, 50])"
            ]
          },
          "metadata": {
            "tags": []
          },
          "execution_count": 2
        }
      ]
    },
    {
      "cell_type": "code",
      "metadata": {
        "colab": {
          "base_uri": "https://localhost:8080/"
        },
        "id": "33W06pI-Bfm1",
        "outputId": "656e105f-be3b-493a-85b7-0afdc453d65b"
      },
      "source": [
        "np.arange(10, 100, 5)"
      ],
      "execution_count": 6,
      "outputs": [
        {
          "output_type": "execute_result",
          "data": {
            "text/plain": [
              "array([10, 15, 20, 25, 30, 35, 40, 45, 50, 55, 60, 65, 70, 75, 80, 85, 90,\n",
              "       95])"
            ]
          },
          "metadata": {
            "tags": []
          },
          "execution_count": 6
        }
      ]
    },
    {
      "cell_type": "code",
      "metadata": {
        "id": "rog4UkX0CjMf"
      },
      "source": [
        "new_array = np.arange(0, 25, 0.5)\r\n",
        "\r\n",
        "for i in range(len(new_array)):\r\n",
        "  print(new_array[i])\r\n"
      ],
      "execution_count": null,
      "outputs": []
    },
    {
      "cell_type": "markdown",
      "metadata": {
        "id": "oNcdC2-2f2Rr"
      },
      "source": [
        "print the length of array"
      ]
    },
    {
      "cell_type": "code",
      "metadata": {
        "id": "-KjpMKC9fszM",
        "outputId": "31b092f3-a933-43b9-ee1e-d7fdef05f51c",
        "colab": {
          "base_uri": "https://localhost:8080/"
        }
      },
      "source": [
        "print(len(array1))\r\n",
        "print(len(array2))\r\n",
        "print(len(array3))\r\n"
      ],
      "execution_count": 24,
      "outputs": [
        {
          "output_type": "stream",
          "text": [
            "10\n",
            "10\n",
            "10\n"
          ],
          "name": "stdout"
        }
      ]
    },
    {
      "cell_type": "code",
      "metadata": {
        "id": "b-opel35jB3g"
      },
      "source": [
        ""
      ],
      "execution_count": null,
      "outputs": []
    },
    {
      "cell_type": "markdown",
      "metadata": {
        "id": "3HD_h-Roh0DI"
      },
      "source": [
        "Now, instead the element in the array in ascending order (smallest to highest)"
      ]
    },
    {
      "cell_type": "code",
      "metadata": {
        "id": "ziLbHSAaiU2e",
        "outputId": "a6cd7b62-576c-421a-8e7a-4f7ae46f23b4",
        "colab": {
          "base_uri": "https://localhost:8080/"
        }
      },
      "source": [
        "print('sorted from smallest to highest:', np.sort(array1))"
      ],
      "execution_count": 25,
      "outputs": [
        {
          "output_type": "stream",
          "text": [
            "sorted from smallest to highest: [10 11 45 56 65 75 77 78 85 90]\n"
          ],
          "name": "stdout"
        }
      ]
    }
  ]
}