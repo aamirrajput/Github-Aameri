{
  "nbformat": 4,
  "nbformat_minor": 0,
  "metadata": {
    "colab": {
      "name": "intro.ipynb",
      "provenance": [],
      "authorship_tag": "ABX9TyPox8pV/xyTYeigDr3AXwcw",
      "include_colab_link": true
    },
    "kernelspec": {
      "name": "python3",
      "display_name": "Python 3"
    }
  },
  "cells": [
    {
      "cell_type": "markdown",
      "metadata": {
        "id": "view-in-github",
        "colab_type": "text"
      },
      "source": [
        "<a href=\"https://colab.research.google.com/github/aamirrajput/Github-Aameri/blob/main/intro.ipynb\" target=\"_parent\"><img src=\"https://colab.research.google.com/assets/colab-badge.svg\" alt=\"Open In Colab\"/></a>"
      ]
    },
    {
      "cell_type": "code",
      "metadata": {
        "colab": {
          "base_uri": "https://localhost:8080/"
        },
        "id": "L6rbeG2nAwY5",
        "outputId": "3a6f8641-f5a7-4dee-dc2a-a9adf079d2e5"
      },
      "source": [
        "a = [1, 2, 3, 4, 5]\r\n",
        "print(a)"
      ],
      "execution_count": 9,
      "outputs": [
        {
          "output_type": "stream",
          "text": [
            "[1, 2, 3, 4, 5]\n"
          ],
          "name": "stdout"
        }
      ]
    },
    {
      "cell_type": "code",
      "metadata": {
        "colab": {
          "base_uri": "https://localhost:8080/"
        },
        "id": "NbzrBrd7Ovc5",
        "outputId": "e6689bf8-26a7-4400-efbc-82a51970327c"
      },
      "source": [
        "print('hello aamir')"
      ],
      "execution_count": 10,
      "outputs": [
        {
          "output_type": "stream",
          "text": [
            "hello aamir\n"
          ],
          "name": "stdout"
        }
      ]
    },
    {
      "cell_type": "code",
      "metadata": {
        "id": "UQMzAQrkdW2I"
      },
      "source": [
        "import numpy as np\r\n",
        "import matplotlib.pyplot as plt\r\n",
        "import pandas as pd\r\n",
        "import scipy"
      ],
      "execution_count": 8,
      "outputs": []
    },
    {
      "cell_type": "markdown",
      "metadata": {
        "id": "tyN55biPH5AB"
      },
      "source": [
        "handle arrays(1D, 2D, 3D)"
      ]
    },
    {
      "cell_type": "markdown",
      "metadata": {
        "id": "oNXhGvaYISn4"
      },
      "source": [
        "ID array"
      ]
    },
    {
      "cell_type": "markdown",
      "metadata": {
        "id": "FTRwlmdNIbCD"
      },
      "source": [
        "1. np.array: array consist of several numbers\r\n",
        "2. np.linspace: array of series from strat value to end value, with specific incerment.\r\n",
        "3. np.arange: array of seires between two values with specfic.\r\n"
      ]
    },
    {
      "cell_type": "code",
      "metadata": {
        "colab": {
          "base_uri": "https://localhost:8080/"
        },
        "id": "Oviz0sNsMMvT",
        "outputId": "bfa34e61-7591-40b0-f369-71d6c38d3302"
      },
      "source": [
        "# Create array with specified values\r\n",
        "array1 = np.array([10, 11, 45, 75, 65, 78, 90, 85, 56, 77])\r\n",
        "print(array1)\r\n",
        "\r\n",
        "# create  an array, say from 1 to 50 with specified increment say 5\r\n",
        "array2 = np.arange(1, 50, 5)\r\n",
        "print(array2)\r\n",
        "\r\n",
        "# create a 1D numpy array consisting of numbers from 1 to 100, divided uniformly\r\n",
        "array3 = np.linspace(1, 100, 10)\r\n",
        "print(array3)"
      ],
      "execution_count": 11,
      "outputs": [
        {
          "output_type": "stream",
          "text": [
            "[10 11 45 75 65 78 90 85 56 77]\n",
            "[ 1  6 11 16 21 26 31 36 41 46]\n",
            "[  1.  12.  23.  34.  45.  56.  67.  78.  89. 100.]\n"
          ],
          "name": "stdout"
        }
      ]
    },
    {
      "cell_type": "markdown",
      "metadata": {
        "id": "bDEkp62WPT6o"
      },
      "source": [
        "print the length of each array"
      ]
    },
    {
      "cell_type": "code",
      "metadata": {
        "colab": {
          "base_uri": "https://localhost:8080/"
        },
        "id": "qXUTVojcAtd2",
        "outputId": "55d32a0b-c91d-4fa3-a374-1e1893c13cb0"
      },
      "source": [
        "np.array([10, 20, 30, 40, 50])"
      ],
      "execution_count": 12,
      "outputs": [
        {
          "output_type": "execute_result",
          "data": {
            "text/plain": [
              "array([10, 20, 30, 40, 50])"
            ]
          },
          "metadata": {
            "tags": []
          },
          "execution_count": 12
        }
      ]
    },
    {
      "cell_type": "code",
      "metadata": {
        "colab": {
          "base_uri": "https://localhost:8080/"
        },
        "id": "33W06pI-Bfm1",
        "outputId": "76b9d1c6-a6ce-45d8-82ff-d5343132f1dc"
      },
      "source": [
        "np.arange(10, 100, 5)"
      ],
      "execution_count": 13,
      "outputs": [
        {
          "output_type": "execute_result",
          "data": {
            "text/plain": [
              "array([10, 15, 20, 25, 30, 35, 40, 45, 50, 55, 60, 65, 70, 75, 80, 85, 90,\n",
              "       95])"
            ]
          },
          "metadata": {
            "tags": []
          },
          "execution_count": 13
        }
      ]
    },
    {
      "cell_type": "code",
      "metadata": {
        "id": "rog4UkX0CjMf",
        "colab": {
          "base_uri": "https://localhost:8080/"
        },
        "outputId": "85258afd-7916-41e2-c72f-597f563231a1"
      },
      "source": [
        "new_array = np.arange(0, 25, 0.5)\r\n",
        "\r\n",
        "for i in range(len(new_array)):\r\n",
        "  print(new_array[i])\r\n"
      ],
      "execution_count": 14,
      "outputs": [
        {
          "output_type": "stream",
          "text": [
            "0.0\n",
            "0.5\n",
            "1.0\n",
            "1.5\n",
            "2.0\n",
            "2.5\n",
            "3.0\n",
            "3.5\n",
            "4.0\n",
            "4.5\n",
            "5.0\n",
            "5.5\n",
            "6.0\n",
            "6.5\n",
            "7.0\n",
            "7.5\n",
            "8.0\n",
            "8.5\n",
            "9.0\n",
            "9.5\n",
            "10.0\n",
            "10.5\n",
            "11.0\n",
            "11.5\n",
            "12.0\n",
            "12.5\n",
            "13.0\n",
            "13.5\n",
            "14.0\n",
            "14.5\n",
            "15.0\n",
            "15.5\n",
            "16.0\n",
            "16.5\n",
            "17.0\n",
            "17.5\n",
            "18.0\n",
            "18.5\n",
            "19.0\n",
            "19.5\n",
            "20.0\n",
            "20.5\n",
            "21.0\n",
            "21.5\n",
            "22.0\n",
            "22.5\n",
            "23.0\n",
            "23.5\n",
            "24.0\n",
            "24.5\n"
          ],
          "name": "stdout"
        }
      ]
    },
    {
      "cell_type": "markdown",
      "metadata": {
        "id": "oNcdC2-2f2Rr"
      },
      "source": [
        "print the length of array"
      ]
    },
    {
      "cell_type": "code",
      "metadata": {
        "id": "-KjpMKC9fszM",
        "colab": {
          "base_uri": "https://localhost:8080/"
        },
        "outputId": "b49a5cc9-4ab5-4cf8-9270-f0e89ffd5559"
      },
      "source": [
        "print(len(array1))\r\n",
        "print(len(array2))\r\n",
        "print(len(array3))\r\n"
      ],
      "execution_count": 15,
      "outputs": [
        {
          "output_type": "stream",
          "text": [
            "10\n",
            "10\n",
            "10\n"
          ],
          "name": "stdout"
        }
      ]
    },
    {
      "cell_type": "markdown",
      "metadata": {
        "id": "nBqbaxKjf6Te"
      },
      "source": [
        "instead repertivitve codes, we can use for loop"
      ]
    },
    {
      "cell_type": "code",
      "metadata": {
        "colab": {
          "base_uri": "https://localhost:8080/"
        },
        "id": "UBy9Rrukha2D",
        "outputId": "ad38d9dd-9a89-4143-9f7c-15f07c33a201"
      },
      "source": [
        "arrays = np.array([array1, array2, array3])\r\n",
        "\r\n",
        "for i in range(len(arrays)):\r\n",
        "  print(len(arrays[i]))"
      ],
      "execution_count": 16,
      "outputs": [
        {
          "output_type": "stream",
          "text": [
            "10\n",
            "10\n",
            "10\n"
          ],
          "name": "stdout"
        }
      ]
    },
    {
      "cell_type": "code",
      "metadata": {
        "colab": {
          "base_uri": "https://localhost:8080/"
        },
        "id": "c3XvYgnsinBy",
        "outputId": "ffb0ea81-6f81-4aaa-8e68-b7cadd410497"
      },
      "source": [
        "new_array = np.arange(0, 25, 0.5)\r\n",
        "\r\n",
        "for i in range(len(arrays)):\r\n",
        "  print(new_array[i])"
      ],
      "execution_count": 20,
      "outputs": [
        {
          "output_type": "stream",
          "text": [
            "0.0\n",
            "0.5\n",
            "1.0\n"
          ],
          "name": "stdout"
        }
      ]
    },
    {
      "cell_type": "markdown",
      "metadata": {
        "id": "3HD_h-Roh0DI"
      },
      "source": [
        "Now, instead the element in the array in ascending order (smallest to highest)"
      ]
    },
    {
      "cell_type": "code",
      "metadata": {
        "id": "ziLbHSAaiU2e",
        "colab": {
          "base_uri": "https://localhost:8080/"
        },
        "outputId": "a6cd7b62-576c-421a-8e7a-4f7ae46f23b4"
      },
      "source": [
        "print('sorted from smallest to highest:', np.sort(array1))"
      ],
      "execution_count": null,
      "outputs": [
        {
          "output_type": "stream",
          "text": [
            "sorted from smallest to highest: [10 11 45 56 65 75 77 78 85 90]\n"
          ],
          "name": "stdout"
        }
      ]
    },
    {
      "cell_type": "markdown",
      "metadata": {
        "id": "s7vXVeG-ktoJ"
      },
      "source": [
        "To sort with descending order, we can use alternative([::-1])"
      ]
    },
    {
      "cell_type": "code",
      "metadata": {
        "colab": {
          "base_uri": "https://localhost:8080/"
        },
        "id": "dEs_dlXClZas",
        "outputId": "fb4623c5-50ac-46c1-e50d-2eed87f432bf"
      },
      "source": [
        "print('Sorted from higest to smallest:', array1[::-1])"
      ],
      "execution_count": 22,
      "outputs": [
        {
          "output_type": "stream",
          "text": [
            "Sorted from higest to smallest: [77 56 85 90 78 65 75 45 11 10]\n"
          ],
          "name": "stdout"
        }
      ]
    },
    {
      "cell_type": "markdown",
      "metadata": {
        "id": "NNn2I4gJl1dR"
      },
      "source": [
        "Numpy array is unique because indexing starts from 0, nor 1. Try printing the first element of the array "
      ]
    },
    {
      "cell_type": "code",
      "metadata": {
        "colab": {
          "base_uri": "https://localhost:8080/"
        },
        "id": "NvYTtv5JmNI9",
        "outputId": "80ac3865-40f2-474d-941f-1ad5aa1cfc35"
      },
      "source": [
        "print('first element N:', array1[-1])\r\n",
        "print('last element N-1:', array1[-2])\r\n"
      ],
      "execution_count": 23,
      "outputs": [
        {
          "output_type": "stream",
          "text": [
            "first element N: 77\n",
            "last element N-1: 56\n"
          ],
          "name": "stdout"
        }
      ]
    },
    {
      "cell_type": "code",
      "metadata": {
        "colab": {
          "base_uri": "https://localhost:8080/"
        },
        "id": "ihTagpZtnegD",
        "outputId": "a49439ef-b3b6-4e83-b401-8f85c5a221a6"
      },
      "source": [
        "print('first element:', array1[0])\r\n",
        "print('second element:', array1[1])\r\n",
        "print('last eight element of the array:', array1[-8])\r\n"
      ],
      "execution_count": 34,
      "outputs": [
        {
          "output_type": "stream",
          "text": [
            "first element: 10\n",
            "second element: 11\n",
            "last eight element of the array: 45\n"
          ],
          "name": "stdout"
        }
      ]
    },
    {
      "cell_type": "code",
      "metadata": {
        "colab": {
          "base_uri": "https://localhost:8080/"
        },
        "id": "SQNKXmo3n9qN",
        "outputId": "2ec326c5-0106-461b-f353-5856630aac5c"
      },
      "source": [
        "new_array[-2]"
      ],
      "execution_count": 27,
      "outputs": [
        {
          "output_type": "execute_result",
          "data": {
            "text/plain": [
              "24.0"
            ]
          },
          "metadata": {
            "tags": []
          },
          "execution_count": 27
        }
      ]
    },
    {
      "cell_type": "code",
      "metadata": {
        "colab": {
          "base_uri": "https://localhost:8080/"
        },
        "id": "IrWFaXbDplL6",
        "outputId": "e5bb5520-8092-478f-e95c-f6656b798907"
      },
      "source": [
        "new_array[-10]"
      ],
      "execution_count": 37,
      "outputs": [
        {
          "output_type": "execute_result",
          "data": {
            "text/plain": [
              "20.0"
            ]
          },
          "metadata": {
            "tags": []
          },
          "execution_count": 37
        }
      ]
    },
    {
      "cell_type": "code",
      "metadata": {
        "colab": {
          "base_uri": "https://localhost:8080/"
        },
        "id": "GWS90COwpswV",
        "outputId": "54964993-1816-4f64-ce42-5d3671b5fc22"
      },
      "source": [
        "print('fifth until eighth element:', array1[5:8])"
      ],
      "execution_count": 38,
      "outputs": [
        {
          "output_type": "stream",
          "text": [
            "fifth until eighth element: [78 90 85]\n"
          ],
          "name": "stdout"
        }
      ]
    },
    {
      "cell_type": "markdown",
      "metadata": {
        "id": "77Lz7IXnqMB_"
      },
      "source": [
        "print the last four element in the array "
      ]
    },
    {
      "cell_type": "code",
      "metadata": {
        "colab": {
          "base_uri": "https://localhost:8080/"
        },
        "id": "jsvcGVewqQDC",
        "outputId": "f2c257dd-7cf0-4478-81aa-082d1c4146fb"
      },
      "source": [
        "print('last four element:', array1[-4:])\r\n"
      ],
      "execution_count": 40,
      "outputs": [
        {
          "output_type": "stream",
          "text": [
            "last four element: [90 85 56 77]\n"
          ],
          "name": "stdout"
        }
      ]
    },
    {
      "cell_type": "markdown",
      "metadata": {
        "id": "BvQF4Z_MqlxM"
      },
      "source": [
        "2D array (Matrix)"
      ]
    },
    {
      "cell_type": "markdown",
      "metadata": {
        "id": "qeCb4oNYqtBL"
      },
      "source": [
        "in math we know 2D array as a matrix, we create matrix also using np.array"
      ]
    },
    {
      "cell_type": "code",
      "metadata": {
        "colab": {
          "base_uri": "https://localhost:8080/"
        },
        "id": "ySDBwLz6rbPP",
        "outputId": "76698ef6-9543-4c80-9c91-47c61f9c824a"
      },
      "source": [
        "new_array"
      ],
      "execution_count": 44,
      "outputs": [
        {
          "output_type": "execute_result",
          "data": {
            "text/plain": [
              "array([ 0. ,  0.5,  1. ,  1.5,  2. ,  2.5,  3. ,  3.5,  4. ,  4.5,  5. ,\n",
              "        5.5,  6. ,  6.5,  7. ,  7.5,  8. ,  8.5,  9. ,  9.5, 10. , 10.5,\n",
              "       11. , 11.5, 12. , 12.5, 13. , 13.5, 14. , 14.5, 15. , 15.5, 16. ,\n",
              "       16.5, 17. , 17.5, 18. , 18.5, 19. , 19.5, 20. , 20.5, 21. , 21.5,\n",
              "       22. , 22.5, 23. , 23.5, 24. , 24.5])"
            ]
          },
          "metadata": {
            "tags": []
          },
          "execution_count": 44
        }
      ]
    },
    {
      "cell_type": "code",
      "metadata": {
        "colab": {
          "base_uri": "https://localhost:8080/"
        },
        "id": "FvrILImGrJbl",
        "outputId": "960df59e-58ae-441b-d7b0-8152d883e3b8"
      },
      "source": [
        "new_array[3:6]"
      ],
      "execution_count": 45,
      "outputs": [
        {
          "output_type": "execute_result",
          "data": {
            "text/plain": [
              "array([1.5, 2. , 2.5])"
            ]
          },
          "metadata": {
            "tags": []
          },
          "execution_count": 45
        }
      ]
    },
    {
      "cell_type": "code",
      "metadata": {
        "colab": {
          "base_uri": "https://localhost:8080/"
        },
        "id": "TYw-_QLlrom9",
        "outputId": "0c394123-d8c4-4f0d-bad3-774e2665a43e"
      },
      "source": [
        "#each row as a 1D array\r\n",
        "first = np.array([10, 20, 30])\r\n",
        "second = np.array([50, 70, 90])\r\n",
        "third = np.array([12, 14, 16])\r\n",
        "\r\n",
        "#stack them togehter into 2D array \r\n",
        "M = np.array([first,\r\n",
        "              second,\r\n",
        "              third])\r\n",
        "M"
      ],
      "execution_count": 46,
      "outputs": [
        {
          "output_type": "execute_result",
          "data": {
            "text/plain": [
              "array([[10, 20, 30],\n",
              "       [50, 70, 90],\n",
              "       [12, 14, 16]])"
            ]
          },
          "metadata": {
            "tags": []
          },
          "execution_count": 46
        }
      ]
    }
  ]
}