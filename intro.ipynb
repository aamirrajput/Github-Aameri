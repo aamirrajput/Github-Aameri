{
  "nbformat": 4,
  "nbformat_minor": 0,
  "metadata": {
    "colab": {
      "name": "intro.ipynb",
      "provenance": [],
      "authorship_tag": "ABX9TyNeXHdeHSaMlRfklp8lUcaq",
      "include_colab_link": true
    },
    "kernelspec": {
      "name": "python3",
      "display_name": "Python 3"
    }
  },
  "cells": [
    {
      "cell_type": "markdown",
      "metadata": {
        "id": "view-in-github",
        "colab_type": "text"
      },
      "source": [
        "<a href=\"https://colab.research.google.com/github/aamirrajput/Github-Aameri/blob/main/intro.ipynb\" target=\"_parent\"><img src=\"https://colab.research.google.com/assets/colab-badge.svg\" alt=\"Open In Colab\"/></a>"
      ]
    },
    {
      "cell_type": "code",
      "metadata": {
        "colab": {
          "base_uri": "https://localhost:8080/"
        },
        "id": "L6rbeG2nAwY5",
        "outputId": "db39366f-c9be-4baa-cee7-3d410b4644fd"
      },
      "source": [
        "a = [1, 2, 3, 4, 5]\n",
        "print(a)"
      ],
      "execution_count": 1,
      "outputs": [
        {
          "output_type": "stream",
          "text": [
            "[1, 2, 3, 4, 5]\n"
          ],
          "name": "stdout"
        }
      ]
    },
    {
      "cell_type": "code",
      "metadata": {
        "colab": {
          "base_uri": "https://localhost:8080/"
        },
        "id": "NbzrBrd7Ovc5",
        "outputId": "5930f697-adc5-4544-b6ed-d3afc3fa3900"
      },
      "source": [
        "print('hello aamir')"
      ],
      "execution_count": 2,
      "outputs": [
        {
          "output_type": "stream",
          "text": [
            "hello aamir\n"
          ],
          "name": "stdout"
        }
      ]
    },
    {
      "cell_type": "code",
      "metadata": {
        "id": "UQMzAQrkdW2I"
      },
      "source": [
        "import numpy as np\n",
        "import matplotlib.pyplot as plt\n",
        "import pandas as pd\n",
        "import scipy"
      ],
      "execution_count": 3,
      "outputs": []
    },
    {
      "cell_type": "markdown",
      "metadata": {
        "id": "tyN55biPH5AB"
      },
      "source": [
        "handle arrays(1D, 2D, 3D)"
      ]
    },
    {
      "cell_type": "markdown",
      "metadata": {
        "id": "oNXhGvaYISn4"
      },
      "source": [
        "ID array"
      ]
    },
    {
      "cell_type": "markdown",
      "metadata": {
        "id": "FTRwlmdNIbCD"
      },
      "source": [
        "1. np.array: array consist of several numbers\n",
        "2. np.linspace: array of series from strat value to end value, with specific incerment.\n",
        "3. np.arange: array of seires between two values with specfic.\n"
      ]
    },
    {
      "cell_type": "code",
      "metadata": {
        "colab": {
          "base_uri": "https://localhost:8080/"
        },
        "id": "Oviz0sNsMMvT",
        "outputId": "b0d5a2f9-8b38-4135-c90b-033ce33fde6a"
      },
      "source": [
        "# Create array with specified values\n",
        "array1 = np.array([10, 11, 45, 75, 65, 78, 90, 85, 56, 77])\n",
        "print(array1)\n",
        "\n",
        "# create  an array, say from 1 to 50 with specified increment say 5\n",
        "array2 = np.arange(1, 50, 5)\n",
        "print(array2)\n",
        "\n",
        "# create a 1D numpy array consisting of numbers from 1 to 100, divided uniformly\n",
        "array3 = np.linspace(1, 100, 10)\n",
        "print(array3)"
      ],
      "execution_count": 4,
      "outputs": [
        {
          "output_type": "stream",
          "text": [
            "[10 11 45 75 65 78 90 85 56 77]\n",
            "[ 1  6 11 16 21 26 31 36 41 46]\n",
            "[  1.  12.  23.  34.  45.  56.  67.  78.  89. 100.]\n"
          ],
          "name": "stdout"
        }
      ]
    },
    {
      "cell_type": "markdown",
      "metadata": {
        "id": "bDEkp62WPT6o"
      },
      "source": [
        "print the length of each array"
      ]
    },
    {
      "cell_type": "code",
      "metadata": {
        "colab": {
          "base_uri": "https://localhost:8080/"
        },
        "id": "qXUTVojcAtd2",
        "outputId": "0e07c4dd-464f-411e-98e6-ad44585b1a0a"
      },
      "source": [
        "np.array([10, 20, 30, 40, 50])"
      ],
      "execution_count": 5,
      "outputs": [
        {
          "output_type": "execute_result",
          "data": {
            "text/plain": [
              "array([10, 20, 30, 40, 50])"
            ]
          },
          "metadata": {
            "tags": []
          },
          "execution_count": 5
        }
      ]
    },
    {
      "cell_type": "code",
      "metadata": {
        "colab": {
          "base_uri": "https://localhost:8080/"
        },
        "id": "33W06pI-Bfm1",
        "outputId": "9f578c06-cf86-4f81-b38b-0a88aa306c05"
      },
      "source": [
        "np.arange(10, 100, 5)"
      ],
      "execution_count": 6,
      "outputs": [
        {
          "output_type": "execute_result",
          "data": {
            "text/plain": [
              "array([10, 15, 20, 25, 30, 35, 40, 45, 50, 55, 60, 65, 70, 75, 80, 85, 90,\n",
              "       95])"
            ]
          },
          "metadata": {
            "tags": []
          },
          "execution_count": 6
        }
      ]
    },
    {
      "cell_type": "code",
      "metadata": {
        "id": "rog4UkX0CjMf",
        "colab": {
          "base_uri": "https://localhost:8080/"
        },
        "outputId": "b9b3c298-d55b-422b-868e-b53791eb131b"
      },
      "source": [
        "new_array = np.arange(0, 25, 0.5)\n",
        "\n",
        "for i in range(len(new_array)):\n",
        "  print(new_array[i])\n"
      ],
      "execution_count": 7,
      "outputs": [
        {
          "output_type": "stream",
          "text": [
            "0.0\n",
            "0.5\n",
            "1.0\n",
            "1.5\n",
            "2.0\n",
            "2.5\n",
            "3.0\n",
            "3.5\n",
            "4.0\n",
            "4.5\n",
            "5.0\n",
            "5.5\n",
            "6.0\n",
            "6.5\n",
            "7.0\n",
            "7.5\n",
            "8.0\n",
            "8.5\n",
            "9.0\n",
            "9.5\n",
            "10.0\n",
            "10.5\n",
            "11.0\n",
            "11.5\n",
            "12.0\n",
            "12.5\n",
            "13.0\n",
            "13.5\n",
            "14.0\n",
            "14.5\n",
            "15.0\n",
            "15.5\n",
            "16.0\n",
            "16.5\n",
            "17.0\n",
            "17.5\n",
            "18.0\n",
            "18.5\n",
            "19.0\n",
            "19.5\n",
            "20.0\n",
            "20.5\n",
            "21.0\n",
            "21.5\n",
            "22.0\n",
            "22.5\n",
            "23.0\n",
            "23.5\n",
            "24.0\n",
            "24.5\n"
          ],
          "name": "stdout"
        }
      ]
    },
    {
      "cell_type": "markdown",
      "metadata": {
        "id": "oNcdC2-2f2Rr"
      },
      "source": [
        "print the length of array"
      ]
    },
    {
      "cell_type": "code",
      "metadata": {
        "id": "-KjpMKC9fszM",
        "colab": {
          "base_uri": "https://localhost:8080/"
        },
        "outputId": "2a86f30b-57f8-4af5-ec3f-6d018b5ee18e"
      },
      "source": [
        "print(len(array1))\n",
        "print(len(array2))\n",
        "print(len(array3))\n"
      ],
      "execution_count": 8,
      "outputs": [
        {
          "output_type": "stream",
          "text": [
            "10\n",
            "10\n",
            "10\n"
          ],
          "name": "stdout"
        }
      ]
    },
    {
      "cell_type": "markdown",
      "metadata": {
        "id": "nBqbaxKjf6Te"
      },
      "source": [
        "instead repertivitve codes, we can use for loop"
      ]
    },
    {
      "cell_type": "code",
      "metadata": {
        "colab": {
          "base_uri": "https://localhost:8080/"
        },
        "id": "UBy9Rrukha2D",
        "outputId": "1cbc6c1b-00a7-41da-9aa9-45180efa26af"
      },
      "source": [
        "arrays = np.array([array1, array2, array3])\n",
        "\n",
        "for i in range(len(arrays)):\n",
        "  print(len(arrays[i]))"
      ],
      "execution_count": 9,
      "outputs": [
        {
          "output_type": "stream",
          "text": [
            "10\n",
            "10\n",
            "10\n"
          ],
          "name": "stdout"
        }
      ]
    },
    {
      "cell_type": "code",
      "metadata": {
        "colab": {
          "base_uri": "https://localhost:8080/"
        },
        "id": "c3XvYgnsinBy",
        "outputId": "db54b5ca-77dd-42b7-8545-ab985a07e306"
      },
      "source": [
        "new_array = np.arange(0, 25, 0.5)\n",
        "\n",
        "for i in range(len(arrays)):\n",
        "  print(new_array[i])"
      ],
      "execution_count": 10,
      "outputs": [
        {
          "output_type": "stream",
          "text": [
            "0.0\n",
            "0.5\n",
            "1.0\n"
          ],
          "name": "stdout"
        }
      ]
    },
    {
      "cell_type": "markdown",
      "metadata": {
        "id": "3HD_h-Roh0DI"
      },
      "source": [
        "Now, instead the element in the array in ascending order (smallest to highest)"
      ]
    },
    {
      "cell_type": "code",
      "metadata": {
        "id": "ziLbHSAaiU2e",
        "colab": {
          "base_uri": "https://localhost:8080/"
        },
        "outputId": "f0c5f171-faf7-487a-f5f1-fe2026354064"
      },
      "source": [
        "print('sorted from smallest to highest:', np.sort(array1))"
      ],
      "execution_count": 11,
      "outputs": [
        {
          "output_type": "stream",
          "text": [
            "sorted from smallest to highest: [10 11 45 56 65 75 77 78 85 90]\n"
          ],
          "name": "stdout"
        }
      ]
    },
    {
      "cell_type": "markdown",
      "metadata": {
        "id": "s7vXVeG-ktoJ"
      },
      "source": [
        "To sort with descending order, we can use alternative([::-1])"
      ]
    },
    {
      "cell_type": "code",
      "metadata": {
        "colab": {
          "base_uri": "https://localhost:8080/"
        },
        "id": "dEs_dlXClZas",
        "outputId": "088dddec-d151-4d36-949e-701af0c744fd"
      },
      "source": [
        "print('Sorted from higest to smallest:', array1[::-1])"
      ],
      "execution_count": 12,
      "outputs": [
        {
          "output_type": "stream",
          "text": [
            "Sorted from higest to smallest: [77 56 85 90 78 65 75 45 11 10]\n"
          ],
          "name": "stdout"
        }
      ]
    },
    {
      "cell_type": "markdown",
      "metadata": {
        "id": "NNn2I4gJl1dR"
      },
      "source": [
        "Numpy array is unique because indexing starts from 0, nor 1. Try printing the first element of the array "
      ]
    },
    {
      "cell_type": "code",
      "metadata": {
        "colab": {
          "base_uri": "https://localhost:8080/"
        },
        "id": "NvYTtv5JmNI9",
        "outputId": "ed74c803-711c-4877-e170-5758dc971319"
      },
      "source": [
        "print('first element N:', array1[-1])\n",
        "print('last element N-1:', array1[-2])\n"
      ],
      "execution_count": 13,
      "outputs": [
        {
          "output_type": "stream",
          "text": [
            "first element N: 77\n",
            "last element N-1: 56\n"
          ],
          "name": "stdout"
        }
      ]
    },
    {
      "cell_type": "code",
      "metadata": {
        "colab": {
          "base_uri": "https://localhost:8080/"
        },
        "id": "ihTagpZtnegD",
        "outputId": "b918745f-4b21-4eca-d5a8-de796dabdea4"
      },
      "source": [
        "print('first element:', array1[0])\n",
        "print('second element:', array1[1])\n",
        "print('last eight element of the array:', array1[-8])\n"
      ],
      "execution_count": 14,
      "outputs": [
        {
          "output_type": "stream",
          "text": [
            "first element: 10\n",
            "second element: 11\n",
            "last eight element of the array: 45\n"
          ],
          "name": "stdout"
        }
      ]
    },
    {
      "cell_type": "code",
      "metadata": {
        "colab": {
          "base_uri": "https://localhost:8080/"
        },
        "id": "SQNKXmo3n9qN",
        "outputId": "3b0441f7-2b6b-4ca7-fc2f-2bc15f5ef56f"
      },
      "source": [
        "new_array[-2]"
      ],
      "execution_count": 15,
      "outputs": [
        {
          "output_type": "execute_result",
          "data": {
            "text/plain": [
              "24.0"
            ]
          },
          "metadata": {
            "tags": []
          },
          "execution_count": 15
        }
      ]
    },
    {
      "cell_type": "code",
      "metadata": {
        "colab": {
          "base_uri": "https://localhost:8080/"
        },
        "id": "IrWFaXbDplL6",
        "outputId": "55c73974-85b9-4c46-ed22-8fe9c133b76e"
      },
      "source": [
        "new_array[-10]"
      ],
      "execution_count": 16,
      "outputs": [
        {
          "output_type": "execute_result",
          "data": {
            "text/plain": [
              "20.0"
            ]
          },
          "metadata": {
            "tags": []
          },
          "execution_count": 16
        }
      ]
    },
    {
      "cell_type": "code",
      "metadata": {
        "colab": {
          "base_uri": "https://localhost:8080/"
        },
        "id": "GWS90COwpswV",
        "outputId": "ef42e49a-3f39-4e00-aa6f-86ab9b10f6da"
      },
      "source": [
        "print('fifth until eighth element:', array1[5:8])"
      ],
      "execution_count": 17,
      "outputs": [
        {
          "output_type": "stream",
          "text": [
            "fifth until eighth element: [78 90 85]\n"
          ],
          "name": "stdout"
        }
      ]
    },
    {
      "cell_type": "markdown",
      "metadata": {
        "id": "77Lz7IXnqMB_"
      },
      "source": [
        "print the last four element in the array "
      ]
    },
    {
      "cell_type": "code",
      "metadata": {
        "colab": {
          "base_uri": "https://localhost:8080/"
        },
        "id": "jsvcGVewqQDC",
        "outputId": "9931c4bf-4a40-4235-97a1-a6eba61a2806"
      },
      "source": [
        "print('last four element:', array1[-4:])\n"
      ],
      "execution_count": 18,
      "outputs": [
        {
          "output_type": "stream",
          "text": [
            "last four element: [90 85 56 77]\n"
          ],
          "name": "stdout"
        }
      ]
    },
    {
      "cell_type": "markdown",
      "metadata": {
        "id": "BvQF4Z_MqlxM"
      },
      "source": [
        "2D array (Matrix)"
      ]
    },
    {
      "cell_type": "markdown",
      "metadata": {
        "id": "qeCb4oNYqtBL"
      },
      "source": [
        "in math we know 2D array as a matrix, we create matrix also using np.array"
      ]
    },
    {
      "cell_type": "code",
      "metadata": {
        "colab": {
          "base_uri": "https://localhost:8080/"
        },
        "id": "ySDBwLz6rbPP",
        "outputId": "ede07643-4d14-4e75-ce1c-6611655bf0aa"
      },
      "source": [
        "new_array"
      ],
      "execution_count": 19,
      "outputs": [
        {
          "output_type": "execute_result",
          "data": {
            "text/plain": [
              "array([ 0. ,  0.5,  1. ,  1.5,  2. ,  2.5,  3. ,  3.5,  4. ,  4.5,  5. ,\n",
              "        5.5,  6. ,  6.5,  7. ,  7.5,  8. ,  8.5,  9. ,  9.5, 10. , 10.5,\n",
              "       11. , 11.5, 12. , 12.5, 13. , 13.5, 14. , 14.5, 15. , 15.5, 16. ,\n",
              "       16.5, 17. , 17.5, 18. , 18.5, 19. , 19.5, 20. , 20.5, 21. , 21.5,\n",
              "       22. , 22.5, 23. , 23.5, 24. , 24.5])"
            ]
          },
          "metadata": {
            "tags": []
          },
          "execution_count": 19
        }
      ]
    },
    {
      "cell_type": "code",
      "metadata": {
        "colab": {
          "base_uri": "https://localhost:8080/"
        },
        "id": "FvrILImGrJbl",
        "outputId": "5a84ddd7-4fea-45b1-dd0b-a14e90b9b882"
      },
      "source": [
        "new_array[3:6]"
      ],
      "execution_count": 20,
      "outputs": [
        {
          "output_type": "execute_result",
          "data": {
            "text/plain": [
              "array([1.5, 2. , 2.5])"
            ]
          },
          "metadata": {
            "tags": []
          },
          "execution_count": 20
        }
      ]
    },
    {
      "cell_type": "code",
      "metadata": {
        "colab": {
          "base_uri": "https://localhost:8080/"
        },
        "id": "TYw-_QLlrom9",
        "outputId": "3652d51c-bc88-450d-c56c-a7504e72e1c3"
      },
      "source": [
        "#each row as a 1D array\n",
        "first = np.array([10, 20, 30])\n",
        "second = np.array([50, 70, 90])\n",
        "third = np.array([12, 14, 16])\n",
        "\n",
        "#stack them togehter into 2D array \n",
        "M = np.array([first,\n",
        "              second,\n",
        "              third])\n",
        "M"
      ],
      "execution_count": 21,
      "outputs": [
        {
          "output_type": "execute_result",
          "data": {
            "text/plain": [
              "array([[10, 20, 30],\n",
              "       [50, 70, 90],\n",
              "       [12, 14, 16]])"
            ]
          },
          "metadata": {
            "tags": []
          },
          "execution_count": 21
        }
      ]
    },
    {
      "cell_type": "markdown",
      "metadata": {
        "id": "Uct1-RfTlFp2"
      },
      "source": [
        "OR, You can build it directly\n",
        "you already know how to make 1D numpy array by np.array([...]). There's only one squared bracket. So for a matrix, which is a 2D numpy array\n",
        "([...]) with two aquared brackets."
      ]
    },
    {
      "cell_type": "code",
      "metadata": {
        "id": "riFLA-9fl72S",
        "outputId": "8b3f7ec1-4faa-4ac3-b945-fba7c919ce32",
        "colab": {
          "base_uri": "https://localhost:8080/"
        }
      },
      "source": [
        "M = np.array([[10, 20, 30],\n",
        "              [50,70,90],\n",
        "              [12, 14, 16]])\n",
        "M"
      ],
      "execution_count": 25,
      "outputs": [
        {
          "output_type": "execute_result",
          "data": {
            "text/plain": [
              "array([[10, 20, 30],\n",
              "       [50, 70, 90],\n",
              "       [12, 14, 16]])"
            ]
          },
          "metadata": {
            "tags": []
          },
          "execution_count": 25
        }
      ]
    }
  ]
}