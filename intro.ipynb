{
  "nbformat": 4,
  "nbformat_minor": 0,
  "metadata": {
    "colab": {
      "name": "intro.ipynb",
      "provenance": [],
      "authorship_tag": "ABX9TyNfNdMLzOhDJFrkE4+XY1ZF",
      "include_colab_link": true
    },
    "kernelspec": {
      "name": "python3",
      "display_name": "Python 3"
    }
  },
  "cells": [
    {
      "cell_type": "markdown",
      "metadata": {
        "id": "view-in-github",
        "colab_type": "text"
      },
      "source": [
        "<a href=\"https://colab.research.google.com/github/aamirrajput/Github-Aameri/blob/main/intro.ipynb\" target=\"_parent\"><img src=\"https://colab.research.google.com/assets/colab-badge.svg\" alt=\"Open In Colab\"/></a>"
      ]
    },
    {
      "cell_type": "code",
      "metadata": {
        "colab": {
          "base_uri": "https://localhost:8080/"
        },
        "id": "L6rbeG2nAwY5",
        "outputId": "9fe2d3fd-5459-48d5-9ef6-ec8d65dbdc91"
      },
      "source": [
        "a = [1, 2, 3, 4, 5]\n",
        "print(a)"
      ],
      "execution_count": 50,
      "outputs": [
        {
          "output_type": "stream",
          "text": [
            "[1, 2, 3, 4, 5]\n"
          ],
          "name": "stdout"
        }
      ]
    },
    {
      "cell_type": "code",
      "metadata": {
        "colab": {
          "base_uri": "https://localhost:8080/"
        },
        "id": "NbzrBrd7Ovc5",
        "outputId": "2825a692-7dfa-4e23-a03e-06e105977028"
      },
      "source": [
        "print('hello aamir')"
      ],
      "execution_count": 51,
      "outputs": [
        {
          "output_type": "stream",
          "text": [
            "hello aamir\n"
          ],
          "name": "stdout"
        }
      ]
    },
    {
      "cell_type": "code",
      "metadata": {
        "id": "UQMzAQrkdW2I"
      },
      "source": [
        "import numpy as np\n",
        "import matplotlib.pyplot as plt\n",
        "import pandas as pd\n",
        "import scipy"
      ],
      "execution_count": 73,
      "outputs": []
    },
    {
      "cell_type": "markdown",
      "metadata": {
        "id": "tyN55biPH5AB"
      },
      "source": [
        "handle arrays(1D, 2D, 3D)"
      ]
    },
    {
      "cell_type": "markdown",
      "metadata": {
        "id": "oNXhGvaYISn4"
      },
      "source": [
        "ID array"
      ]
    },
    {
      "cell_type": "markdown",
      "metadata": {
        "id": "FTRwlmdNIbCD"
      },
      "source": [
        "1. np.array: array consist of several numbers\n",
        "2. np.linspace: array of series from strat value to end value, with specific incerment.\n",
        "3. np.arange: array of seires between two values with specfic.\n"
      ]
    },
    {
      "cell_type": "code",
      "metadata": {
        "colab": {
          "base_uri": "https://localhost:8080/"
        },
        "id": "Oviz0sNsMMvT",
        "outputId": "b78cd226-38bf-4cd0-80ae-74ecad91a5a7"
      },
      "source": [
        "# Create array with specified values\n",
        "array1 = np.array([10, 11, 45, 75, 65, 78, 90, 85, 56, 77])\n",
        "print(array1)\n",
        "\n",
        "# create  an array, say from 1 to 50 with specified increment say 5\n",
        "array2 = np.arange(1, 50, 5)\n",
        "print(array2)\n",
        "\n",
        "# create a 1D numpy array consisting of numbers from 1 to 100, divided uniformly\n",
        "array3 = np.linspace(1, 100, 10)\n",
        "print(array3)"
      ],
      "execution_count": 74,
      "outputs": [
        {
          "output_type": "stream",
          "text": [
            "[10 11 45 75 65 78 90 85 56 77]\n",
            "[ 1  6 11 16 21 26 31 36 41 46]\n",
            "[  1.  12.  23.  34.  45.  56.  67.  78.  89. 100.]\n"
          ],
          "name": "stdout"
        }
      ]
    },
    {
      "cell_type": "markdown",
      "metadata": {
        "id": "bDEkp62WPT6o"
      },
      "source": [
        "print the length of each array"
      ]
    },
    {
      "cell_type": "code",
      "metadata": {
        "colab": {
          "base_uri": "https://localhost:8080/"
        },
        "id": "qXUTVojcAtd2",
        "outputId": "fa670583-0878-4a6e-9762-d788d80aeba8"
      },
      "source": [
        "np.array([10, 20, 30, 40, 50])"
      ],
      "execution_count": 76,
      "outputs": [
        {
          "output_type": "execute_result",
          "data": {
            "text/plain": [
              "array([10, 20, 30, 40, 50])"
            ]
          },
          "metadata": {
            "tags": []
          },
          "execution_count": 76
        }
      ]
    },
    {
      "cell_type": "code",
      "metadata": {
        "colab": {
          "base_uri": "https://localhost:8080/"
        },
        "id": "33W06pI-Bfm1",
        "outputId": "25e1cea5-4443-4da4-ca34-720b56fef2e3"
      },
      "source": [
        "np.arange(10, 100, 5)"
      ],
      "execution_count": 75,
      "outputs": [
        {
          "output_type": "execute_result",
          "data": {
            "text/plain": [
              "array([10, 15, 20, 25, 30, 35, 40, 45, 50, 55, 60, 65, 70, 75, 80, 85, 90,\n",
              "       95])"
            ]
          },
          "metadata": {
            "tags": []
          },
          "execution_count": 75
        }
      ]
    },
    {
      "cell_type": "code",
      "metadata": {
        "id": "rog4UkX0CjMf",
        "colab": {
          "base_uri": "https://localhost:8080/"
        },
        "outputId": "b31eea7b-635c-4fc3-b291-79c98cebc42b"
      },
      "source": [
        "new_array = np.arange(0, 25, 0.5)\n",
        "\n",
        "for i in range(len(new_array)):\n",
        "  print(new_array[i])\n"
      ],
      "execution_count": 56,
      "outputs": [
        {
          "output_type": "stream",
          "text": [
            "0.0\n",
            "0.5\n",
            "1.0\n",
            "1.5\n",
            "2.0\n",
            "2.5\n",
            "3.0\n",
            "3.5\n",
            "4.0\n",
            "4.5\n",
            "5.0\n",
            "5.5\n",
            "6.0\n",
            "6.5\n",
            "7.0\n",
            "7.5\n",
            "8.0\n",
            "8.5\n",
            "9.0\n",
            "9.5\n",
            "10.0\n",
            "10.5\n",
            "11.0\n",
            "11.5\n",
            "12.0\n",
            "12.5\n",
            "13.0\n",
            "13.5\n",
            "14.0\n",
            "14.5\n",
            "15.0\n",
            "15.5\n",
            "16.0\n",
            "16.5\n",
            "17.0\n",
            "17.5\n",
            "18.0\n",
            "18.5\n",
            "19.0\n",
            "19.5\n",
            "20.0\n",
            "20.5\n",
            "21.0\n",
            "21.5\n",
            "22.0\n",
            "22.5\n",
            "23.0\n",
            "23.5\n",
            "24.0\n",
            "24.5\n"
          ],
          "name": "stdout"
        }
      ]
    },
    {
      "cell_type": "markdown",
      "metadata": {
        "id": "oNcdC2-2f2Rr"
      },
      "source": [
        "print the length of array"
      ]
    },
    {
      "cell_type": "code",
      "metadata": {
        "id": "-KjpMKC9fszM",
        "colab": {
          "base_uri": "https://localhost:8080/"
        },
        "outputId": "041b4c52-384e-4f59-a3c7-937a0e361ac9"
      },
      "source": [
        "print(len(array1))\n",
        "print(len(array2))\n",
        "print(len(array3))\n"
      ],
      "execution_count": 57,
      "outputs": [
        {
          "output_type": "stream",
          "text": [
            "10\n",
            "10\n",
            "10\n"
          ],
          "name": "stdout"
        }
      ]
    },
    {
      "cell_type": "markdown",
      "metadata": {
        "id": "nBqbaxKjf6Te"
      },
      "source": [
        "instead repertivitve codes, we can use for loop"
      ]
    },
    {
      "cell_type": "code",
      "metadata": {
        "colab": {
          "base_uri": "https://localhost:8080/"
        },
        "id": "UBy9Rrukha2D",
        "outputId": "3440b97f-06ed-4608-b01a-a96a8e2468e7"
      },
      "source": [
        "arrays = np.array([array1, array2, array3])\n",
        "\n",
        "for i in range(len(arrays)):\n",
        "  print(len(arrays[i]))"
      ],
      "execution_count": 58,
      "outputs": [
        {
          "output_type": "stream",
          "text": [
            "10\n",
            "10\n",
            "10\n"
          ],
          "name": "stdout"
        }
      ]
    },
    {
      "cell_type": "code",
      "metadata": {
        "colab": {
          "base_uri": "https://localhost:8080/"
        },
        "id": "c3XvYgnsinBy",
        "outputId": "706b6b5a-33e1-47c7-b09c-e56f62bda5d5"
      },
      "source": [
        "new_array = np.arange(0, 25, 0.5)\n",
        "\n",
        "for i in range(len(arrays)):\n",
        "  print(new_array[i])"
      ],
      "execution_count": 59,
      "outputs": [
        {
          "output_type": "stream",
          "text": [
            "0.0\n",
            "0.5\n",
            "1.0\n"
          ],
          "name": "stdout"
        }
      ]
    },
    {
      "cell_type": "markdown",
      "metadata": {
        "id": "3HD_h-Roh0DI"
      },
      "source": [
        "Now, instead the element in the array in ascending order (smallest to highest)"
      ]
    },
    {
      "cell_type": "code",
      "metadata": {
        "id": "ziLbHSAaiU2e",
        "colab": {
          "base_uri": "https://localhost:8080/"
        },
        "outputId": "c23f5e57-2bdb-402b-f28b-b4803648c0b4"
      },
      "source": [
        "print('sorted from smallest to highest:', np.sort(array1))"
      ],
      "execution_count": 60,
      "outputs": [
        {
          "output_type": "stream",
          "text": [
            "sorted from smallest to highest: [10 11 45 56 65 75 77 78 85 90]\n"
          ],
          "name": "stdout"
        }
      ]
    },
    {
      "cell_type": "markdown",
      "metadata": {
        "id": "s7vXVeG-ktoJ"
      },
      "source": [
        "To sort with descending order, we can use alternative([::-1])"
      ]
    },
    {
      "cell_type": "code",
      "metadata": {
        "colab": {
          "base_uri": "https://localhost:8080/"
        },
        "id": "dEs_dlXClZas",
        "outputId": "37fceefa-f530-4ed3-a498-1daaf7463d11"
      },
      "source": [
        "print('Sorted from higest to smallest:', array1[::-1])"
      ],
      "execution_count": 61,
      "outputs": [
        {
          "output_type": "stream",
          "text": [
            "Sorted from higest to smallest: [77 56 85 90 78 65 75 45 11 10]\n"
          ],
          "name": "stdout"
        }
      ]
    },
    {
      "cell_type": "markdown",
      "metadata": {
        "id": "NNn2I4gJl1dR"
      },
      "source": [
        "Numpy array is unique because indexing starts from 0, nor 1. Try printing the first element of the array "
      ]
    },
    {
      "cell_type": "code",
      "metadata": {
        "colab": {
          "base_uri": "https://localhost:8080/"
        },
        "id": "NvYTtv5JmNI9",
        "outputId": "c057db72-594b-4c0b-f119-86e5d058493e"
      },
      "source": [
        "print('first element N:', array1[-1])\n",
        "print('last element N-1:', array1[-2])\n"
      ],
      "execution_count": 62,
      "outputs": [
        {
          "output_type": "stream",
          "text": [
            "first element N: 77\n",
            "last element N-1: 56\n"
          ],
          "name": "stdout"
        }
      ]
    },
    {
      "cell_type": "code",
      "metadata": {
        "colab": {
          "base_uri": "https://localhost:8080/"
        },
        "id": "ihTagpZtnegD",
        "outputId": "db928b7e-6dc0-48d8-9b9a-b0f6b49a9a06"
      },
      "source": [
        "print('first element:', array1[0])\n",
        "print('second element:', array1[1])\n",
        "print('last eight element of the array:', array1[-8])\n"
      ],
      "execution_count": 63,
      "outputs": [
        {
          "output_type": "stream",
          "text": [
            "first element: 10\n",
            "second element: 11\n",
            "last eight element of the array: 45\n"
          ],
          "name": "stdout"
        }
      ]
    },
    {
      "cell_type": "code",
      "metadata": {
        "colab": {
          "base_uri": "https://localhost:8080/"
        },
        "id": "SQNKXmo3n9qN",
        "outputId": "8d2cdbf0-ae31-4015-f2bf-052dca8b021b"
      },
      "source": [
        "new_array[-2]"
      ],
      "execution_count": 64,
      "outputs": [
        {
          "output_type": "execute_result",
          "data": {
            "text/plain": [
              "24.0"
            ]
          },
          "metadata": {
            "tags": []
          },
          "execution_count": 64
        }
      ]
    },
    {
      "cell_type": "code",
      "metadata": {
        "colab": {
          "base_uri": "https://localhost:8080/"
        },
        "id": "IrWFaXbDplL6",
        "outputId": "d79b5c29-a2cf-43c1-a8d9-921b4f623e7e"
      },
      "source": [
        "new_array[-10]"
      ],
      "execution_count": 65,
      "outputs": [
        {
          "output_type": "execute_result",
          "data": {
            "text/plain": [
              "20.0"
            ]
          },
          "metadata": {
            "tags": []
          },
          "execution_count": 65
        }
      ]
    },
    {
      "cell_type": "code",
      "metadata": {
        "colab": {
          "base_uri": "https://localhost:8080/"
        },
        "id": "GWS90COwpswV",
        "outputId": "1a198043-2549-43ee-f113-0fed24b446ca"
      },
      "source": [
        "print('fifth until eighth element:', array1[5:8])"
      ],
      "execution_count": 66,
      "outputs": [
        {
          "output_type": "stream",
          "text": [
            "fifth until eighth element: [78 90 85]\n"
          ],
          "name": "stdout"
        }
      ]
    },
    {
      "cell_type": "markdown",
      "metadata": {
        "id": "77Lz7IXnqMB_"
      },
      "source": [
        "print the last four element in the array "
      ]
    },
    {
      "cell_type": "code",
      "metadata": {
        "colab": {
          "base_uri": "https://localhost:8080/"
        },
        "id": "jsvcGVewqQDC",
        "outputId": "6a0fdedd-d449-4cb3-dcac-10ada6e4b752"
      },
      "source": [
        "print('last four element:', array1[-4:])\n"
      ],
      "execution_count": 67,
      "outputs": [
        {
          "output_type": "stream",
          "text": [
            "last four element: [90 85 56 77]\n"
          ],
          "name": "stdout"
        }
      ]
    },
    {
      "cell_type": "markdown",
      "metadata": {
        "id": "BvQF4Z_MqlxM"
      },
      "source": [
        "2D array (Matrix)"
      ]
    },
    {
      "cell_type": "markdown",
      "metadata": {
        "id": "qeCb4oNYqtBL"
      },
      "source": [
        "in math we know 2D array as a matrix, we create matrix also using np.array"
      ]
    },
    {
      "cell_type": "code",
      "metadata": {
        "colab": {
          "base_uri": "https://localhost:8080/"
        },
        "id": "ySDBwLz6rbPP",
        "outputId": "c9dc14e5-c463-4cd3-e410-0cc46d1286fe"
      },
      "source": [
        "new_array"
      ],
      "execution_count": 68,
      "outputs": [
        {
          "output_type": "execute_result",
          "data": {
            "text/plain": [
              "array([ 0. ,  0.5,  1. ,  1.5,  2. ,  2.5,  3. ,  3.5,  4. ,  4.5,  5. ,\n",
              "        5.5,  6. ,  6.5,  7. ,  7.5,  8. ,  8.5,  9. ,  9.5, 10. , 10.5,\n",
              "       11. , 11.5, 12. , 12.5, 13. , 13.5, 14. , 14.5, 15. , 15.5, 16. ,\n",
              "       16.5, 17. , 17.5, 18. , 18.5, 19. , 19.5, 20. , 20.5, 21. , 21.5,\n",
              "       22. , 22.5, 23. , 23.5, 24. , 24.5])"
            ]
          },
          "metadata": {
            "tags": []
          },
          "execution_count": 68
        }
      ]
    },
    {
      "cell_type": "code",
      "metadata": {
        "colab": {
          "base_uri": "https://localhost:8080/"
        },
        "id": "FvrILImGrJbl",
        "outputId": "8d621872-b6d7-4ed6-a2d8-8e7ecc6d007d"
      },
      "source": [
        "new_array[3:6]"
      ],
      "execution_count": 69,
      "outputs": [
        {
          "output_type": "execute_result",
          "data": {
            "text/plain": [
              "array([1.5, 2. , 2.5])"
            ]
          },
          "metadata": {
            "tags": []
          },
          "execution_count": 69
        }
      ]
    },
    {
      "cell_type": "code",
      "metadata": {
        "colab": {
          "base_uri": "https://localhost:8080/"
        },
        "id": "TYw-_QLlrom9",
        "outputId": "cea7ac64-1f69-4b26-c7b3-e4b6582ffbf5"
      },
      "source": [
        "#each row as a 1D array\n",
        "first = np.array([10, 20, 30])\n",
        "second = np.array([50, 70, 90])\n",
        "third = np.array([12, 14, 16])\n",
        "\n",
        "#stack them togehter into 2D array \n",
        "M = np.array([first,\n",
        "              second,\n",
        "              third])\n",
        "M"
      ],
      "execution_count": 70,
      "outputs": [
        {
          "output_type": "execute_result",
          "data": {
            "text/plain": [
              "array([[10, 20, 30],\n",
              "       [50, 70, 90],\n",
              "       [12, 14, 16]])"
            ]
          },
          "metadata": {
            "tags": []
          },
          "execution_count": 70
        }
      ]
    },
    {
      "cell_type": "markdown",
      "metadata": {
        "id": "Uct1-RfTlFp2"
      },
      "source": [
        "OR, You can build it directly\n",
        "you already know how to make 1D numpy array by np.array([...]). There's only one squared bracket. So for a matrix, which is a 2D numpy array\n",
        "([...]) with two aquared brackets."
      ]
    },
    {
      "cell_type": "code",
      "metadata": {
        "colab": {
          "base_uri": "https://localhost:8080/"
        },
        "id": "riFLA-9fl72S",
        "outputId": "e3092f5b-9565-4011-a639-e6481224b65c"
      },
      "source": [
        "M = np.array([[10, 20, 30],\n",
        "              [50,70,90],\n",
        "              [12, 14, 16]])\n",
        "M"
      ],
      "execution_count": 71,
      "outputs": [
        {
          "output_type": "execute_result",
          "data": {
            "text/plain": [
              "array([[10, 20, 30],\n",
              "       [50, 70, 90],\n",
              "       [12, 14, 16]])"
            ]
          },
          "metadata": {
            "tags": []
          },
          "execution_count": 71
        }
      ]
    },
    {
      "cell_type": "markdown",
      "metadata": {
        "id": "X9ko_UiDm-I6"
      },
      "source": [
        "Remember that python indexing start from 0. if you want to print the element M1.1, pass M[0,0]\n"
      ]
    },
    {
      "cell_type": "code",
      "metadata": {
        "id": "xDFHxCBmoIV1",
        "outputId": "bb2f476c-0f01-44f4-e984-84c27b1b4b89",
        "colab": {
          "base_uri": "https://localhost:8080/"
        }
      },
      "source": [
        "print('Element 1,1:', M[0,2])"
      ],
      "execution_count": 77,
      "outputs": [
        {
          "output_type": "stream",
          "text": [
            "Element 1,1: 30\n"
          ],
          "name": "stdout"
        }
      ]
    },
    {
      "cell_type": "markdown",
      "metadata": {
        "id": "tXc9yFoOIVkL"
      },
      "source": [
        "Likewise, Print element M 1,3"
      ]
    },
    {
      "cell_type": "code",
      "metadata": {
        "id": "YTJ_dYXeIEb3",
        "outputId": "1784778d-5338-4e95-92ff-3e71df335e99",
        "colab": {
          "base_uri": "https://localhost:8080/"
        }
      },
      "source": [
        "print('Element 1,3:', M[0,2])"
      ],
      "execution_count": 78,
      "outputs": [
        {
          "output_type": "stream",
          "text": [
            "Element 1,3: 30\n"
          ],
          "name": "stdout"
        }
      ]
    },
    {
      "cell_type": "code",
      "metadata": {
        "id": "5dgCMfDqIlov",
        "outputId": "ecb60972-cfaf-45f3-d4aa-49b436f74610",
        "colab": {
          "base_uri": "https://localhost:8080/"
        }
      },
      "source": [
        "print('All element in second row:', M[1,:])"
      ],
      "execution_count": 79,
      "outputs": [
        {
          "output_type": "stream",
          "text": [
            "All element in second row: [50 70 90]\n"
          ],
          "name": "stdout"
        }
      ]
    },
    {
      "cell_type": "markdown",
      "metadata": {
        "id": "KKVNHqYRJKz8"
      },
      "source": [
        "Print all elements in column 2 or element Mn,2"
      ]
    },
    {
      "cell_type": "code",
      "metadata": {
        "id": "OwzrSGCoJBco",
        "outputId": "6e56e682-c607-415a-9296-499356723585",
        "colab": {
          "base_uri": "https://localhost:8080/"
        }
      },
      "source": [
        "print('All element in second column:', M[:,1])"
      ],
      "execution_count": 80,
      "outputs": [
        {
          "output_type": "stream",
          "text": [
            "All element in second column: [20 70 14]\n"
          ],
          "name": "stdout"
        }
      ]
    },
    {
      "cell_type": "markdown",
      "metadata": {
        "id": "VmUYb39GMIQ-"
      },
      "source": [
        "Data Cleansing"
      ]
    },
    {
      "cell_type": "markdown",
      "metadata": {
        "id": "7z6ud4fXMNTl"
      },
      "source": [
        "Create an array consist of NAN values with np.nan"
      ]
    },
    {
      "cell_type": "code",
      "metadata": {
        "id": "OgJHR_AjKKmu"
      },
      "source": [
        "my_array = np.array([np.nan, 15, np.nan, 20, np.nan, 34, np.nan, np.nan, 67, 30, 10])"
      ],
      "execution_count": 81,
      "outputs": []
    },
    {
      "cell_type": "markdown",
      "metadata": {
        "id": "T5KwDsOhONd3"
      },
      "source": [
        "Check if there is value in an array. Return Ture if there's any.Useless, it's return False(Boolean values)"
      ]
    },
    {
      "cell_type": "code",
      "metadata": {
        "id": "c_RhSLBlPPHA",
        "outputId": "eadb298c-6a70-4568-978b-16618b82deb9",
        "colab": {
          "base_uri": "https://localhost:8080/"
        }
      },
      "source": [
        "np.isnan(my_array).any()"
      ],
      "execution_count": 82,
      "outputs": [
        {
          "output_type": "execute_result",
          "data": {
            "text/plain": [
              "True"
            ]
          },
          "metadata": {
            "tags": []
          },
          "execution_count": 82
        }
      ]
    },
    {
      "cell_type": "markdown",
      "metadata": {
        "id": "n2Ycr4rHQYPB"
      },
      "source": [
        "Remove NAN values from array(just delete the NAN value)"
      ]
    },
    {
      "cell_type": "code",
      "metadata": {
        "id": "s67b5XVWQybd",
        "outputId": "611ede7b-dc29-40a1-f2c3-dd040466a74e",
        "colab": {
          "base_uri": "https://localhost:8080/"
        }
      },
      "source": [
        "nan_remove = my_array[~np.isnan(my_array)]\n",
        "nan_remove"
      ],
      "execution_count": 84,
      "outputs": [
        {
          "output_type": "execute_result",
          "data": {
            "text/plain": [
              "array([15., 20., 34., 67., 30., 10.])"
            ]
          },
          "metadata": {
            "tags": []
          },
          "execution_count": 84
        }
      ]
    },
    {
      "cell_type": "markdown",
      "metadata": {
        "id": "qgxaE5vISe7I"
      },
      "source": [
        "Replaceing (inputing) NAN values with mean of data numbers."
      ]
    },
    {
      "cell_type": "code",
      "metadata": {
        "id": "i_3kV9DZSztI",
        "outputId": "e345fd1d-db6f-40ad-ba29-6a798429e9cf",
        "colab": {
          "base_uri": "https://localhost:8080/"
        }
      },
      "source": [
        "#replace number of zeros\n",
        "\n",
        "#first make a new array to store the inputed data, name it new array\n",
        "new_array = np.array(my_array)\n",
        "\n",
        "#replace with zero\n",
        "new_array[np.isnan(new_array)]=100\n",
        "new_array"
      ],
      "execution_count": 89,
      "outputs": [
        {
          "output_type": "execute_result",
          "data": {
            "text/plain": [
              "array([100.,  15., 100.,  20., 100.,  34., 100., 100.,  67.,  30.,  10.])"
            ]
          },
          "metadata": {
            "tags": []
          },
          "execution_count": 89
        }
      ]
    },
    {
      "cell_type": "markdown",
      "metadata": {
        "id": "4_YhTe3sUgix"
      },
      "source": [
        "Imputing NAN values with the mean of the data "
      ]
    },
    {
      "cell_type": "code",
      "metadata": {
        "id": "SJbIDifOUUkC",
        "outputId": "9d781bb7-877a-490e-e6a0-92deb1d582cb",
        "colab": {
          "base_uri": "https://localhost:8080/"
        }
      },
      "source": [
        "np.mean(new_array)"
      ],
      "execution_count": 88,
      "outputs": [
        {
          "output_type": "execute_result",
          "data": {
            "text/plain": [
              "16.0"
            ]
          },
          "metadata": {
            "tags": []
          },
          "execution_count": 88
        }
      ]
    },
    {
      "cell_type": "code",
      "metadata": {
        "id": "dz-cPM_XVO8T"
      },
      "source": [
        ""
      ],
      "execution_count": null,
      "outputs": []
    }
  ]
}